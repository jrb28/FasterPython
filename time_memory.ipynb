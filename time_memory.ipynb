{
 "cells": [
  {
   "cell_type": "markdown",
   "metadata": {},
   "source": [
    "# Measuring Execution Time and Memory Consumption  <a name='time_mem' />  \n",
    "\n",
    "We will demonstrate these techniques for measuring execution time:\n",
    "- Python <code>time</code> module\n",
    "- The built-in <code>timeit</code> command\n",
    "- The <code>line_profiler</code> package\n",
    "\n",
    "We will demonstrate these techniques for measuring memory usage:\n",
    "- Python <code>sys</code> package\n",
    "- The <code>memit</code> command\n",
    "- The <code>memory_profiler</code> package\n",
    "\n",
    "The availability and usage of these techniques varies depending on the programming context, whether it be in Jupyter, in Spyder, or on the command line.  Some do not work well in Jupyter, if at all.\n",
    "\n",
    "__Warning:__ Ensure that the code in a cell runs correctly before using <code>%%timeit</code> to measure cell execution time.  <code>%%timeit</code> will also sometimes mute the printout."
   ]
  },
  {
   "cell_type": "markdown",
   "metadata": {},
   "source": [
    "## Execution Time  <a name='time' />  \n",
    "\n",
    "- <code>time</code> package\n",
    "- <code>%timeit</code> to measure execution time of one _statement_\n",
    "- <code>%%timeit</code> to measure execution time of one _cell_"
   ]
  },
  {
   "cell_type": "markdown",
   "metadata": {},
   "source": [
    "This is the simplest way to measure execution time, although it runs the code only once."
   ]
  },
  {
   "cell_type": "code",
   "execution_count": null,
   "metadata": {},
   "outputs": [],
   "source": [
    "import time"
   ]
  },
  {
   "cell_type": "code",
   "execution_count": null,
   "metadata": {},
   "outputs": [],
   "source": [
    "num_iter = 10000000\n",
    "\n",
    "time_start = time.time()\n",
    "x = 0\n",
    "for _ in range(num_iter):\n",
    "    x += 1\n",
    "\n",
    "print(f'Execution time: {time.time() - time_start} seconds')"
   ]
  },
  {
   "cell_type": "code",
   "execution_count": null,
   "metadata": {},
   "outputs": [],
   "source": [
    "x = 2\n",
    "%timeit y = x**2"
   ]
  },
  {
   "cell_type": "code",
   "execution_count": null,
   "metadata": {},
   "outputs": [],
   "source": [
    "import random"
   ]
  },
  {
   "cell_type": "code",
   "execution_count": null,
   "metadata": {},
   "outputs": [],
   "source": [
    "%%timeit\n",
    "\n",
    "x = []\n",
    "for i in range(1000):\n",
    "    x.append(random.random())"
   ]
  },
  {
   "cell_type": "code",
   "execution_count": null,
   "metadata": {},
   "outputs": [],
   "source": [
    "%%timeit\n",
    "\n",
    "x = [random.random() for i in range(1000)]"
   ]
  },
  {
   "cell_type": "markdown",
   "metadata": {},
   "source": [
    "<code>%%timeit</code> does not break down execution time line-by-line, but <code>line_profiler</code> does, but it requires installation with this statemment in an Anaconda Command prompt run as an administrator:\n",
    "\n",
    "<code>conda install -c conda-forge line_profiler</code>\n",
    "\n",
    "Once installed, <code>line_profiler</code> is loaded into the Jupyter notebook with the statement in the following cell."
   ]
  },
  {
   "cell_type": "code",
   "execution_count": null,
   "metadata": {},
   "outputs": [],
   "source": [
    "%load_ext line_profiler"
   ]
  },
  {
   "cell_type": "markdown",
   "metadata": {},
   "source": [
    "Once loaded, two methods of using <code>line_profiler</code> are demonstrated below.\n",
    "\n",
    "The first is this, using what is called a function decorator.  There are a couple new things in this cell, which we will describe.\n",
    "\n",
    "Having defined a line profiler object with <code>lp = LineProfiler()</code>, the <code>lp</code> function wrapper can be applied multiple times to multiple functions and the execution times are accumulated in the reported statistics, which are obtained with the <code>lp.print_stats()</code> statement."
   ]
  },
  {
   "cell_type": "code",
   "execution_count": null,
   "metadata": {},
   "outputs": [],
   "source": [
    "from line_profiler import LineProfiler\n",
    "import numpy as np\n",
    "\n",
    "def make_list(n):\n",
    "    x = np.random.random(n)\n",
    "    return x\n",
    "\n",
    "if __name__ == '__main__':\n",
    "    lp = LineProfiler()\n",
    "    lp.add_function(make_list)\n",
    "    lp.runcall(make_list, 10000)\n",
    "    #lp_wrapper(100_000)\n",
    "    lp.print_stats()"
   ]
  },
  {
   "cell_type": "markdown",
   "metadata": {},
   "source": [
    "You can also run line_profiler with Python files."
   ]
  },
  {
   "cell_type": "code",
   "execution_count": null,
   "metadata": {},
   "outputs": [],
   "source": [
    "%lprun -f make_list make_list(10000)"
   ]
  },
  {
   "cell_type": "code",
   "execution_count": null,
   "metadata": {},
   "outputs": [],
   "source": [
    "from line_profiler import LineProfiler\n",
    "import numpy as np\n",
    "\n",
    "def make_list1(n):\n",
    "    x = np.random.random(n)\n",
    "    return x\n",
    "\n",
    "def make_list2(n):\n",
    "    x = np.random.random(n)\n",
    "    return x\n",
    "\n",
    "if __name__ == '__main__':\n",
    "    lp = LineProfiler()\n",
    "    lp_wrapper1 = lp(make_list1)\n",
    "    lp_wrapper1(100_000)\n",
    "    lp_wrapper2 = lp(make_list2)\n",
    "    lp_wrapper2(10_000)\n",
    "    lp.print_stats()"
   ]
  },
  {
   "cell_type": "markdown",
   "metadata": {},
   "source": [
    "The second method requires that a function be defined and then calling <code>line_profiler</code> with <code>%lprun</code>.\n",
    "\n",
    "The output does not appear within the Jupyter notebook, but in a window that pops up at the bottom of the notebook."
   ]
  },
  {
   "cell_type": "code",
   "execution_count": null,
   "metadata": {},
   "outputs": [],
   "source": [
    "def make_list_1(n):\n",
    "    x = np.random.random(n)\n",
    "    return x"
   ]
  },
  {
   "cell_type": "code",
   "execution_count": null,
   "metadata": {},
   "outputs": [],
   "source": [
    "%lprun -f make_list_1 make_list_1(100_000)"
   ]
  },
  {
   "cell_type": "markdown",
   "metadata": {},
   "source": [
    "The execution time documented line by line points out the most time consuming steps, which are targets for coding improvements to reduce execution time."
   ]
  },
  {
   "cell_type": "markdown",
   "metadata": {},
   "source": [
    "## Memory Usage Profiling <a name='memory' />  \n",
    "\n",
    "We will start with two simple methods for checking memory usage:\n",
    "\n",
    "- The <code>sys</code> package that accesses the Windows operating system.\n",
    "- The <code>numpy</code> <code>nbytes</code> method\n",
    "\n",
    "The <span style=\"font-family:'Courier New'\">sys</span> package (short for \"system\") and the <span style=\"font-family:'Courier New'\">numpy</span> property <span style=\"font-family:'Courier New'\">nbytes</span> show how many bytes of memory a variable is using.  These are approximations in some cases, but they are sufficiently precise for our purposes.\n",
    "\n",
    "__Notes:__ \n",
    "- $1$ byte is composed of $8$ bits.  A bit is one a memory location capable of storing a $0$ or a $1$.\n",
    "- See this [link](https://numpy.org/doc/stable/user/basics.types.html) for information on <code>numpy</code> data types."
   ]
  },
  {
   "cell_type": "code",
   "execution_count": null,
   "metadata": {},
   "outputs": [],
   "source": [
    "import numpy as np"
   ]
  },
  {
   "cell_type": "code",
   "execution_count": null,
   "metadata": {},
   "outputs": [],
   "source": [
    "arr_int16 = np.arange(1000).astype(np.int16)\n",
    "arr_int32 = np.arange(1000).astype(np.int32)\n",
    "arr_float16 = np.arange(1000).astype(np.float16)\n",
    "arr_float64 = np.arange(1000).astype(np.float64)"
   ]
  },
  {
   "cell_type": "code",
   "execution_count": null,
   "metadata": {},
   "outputs": [],
   "source": [
    "arr_int16.nbytes"
   ]
  },
  {
   "cell_type": "code",
   "execution_count": null,
   "metadata": {},
   "outputs": [],
   "source": [
    "arr_int32.nbytes"
   ]
  },
  {
   "cell_type": "code",
   "execution_count": null,
   "metadata": {},
   "outputs": [],
   "source": [
    "arr_float16.nbytes"
   ]
  },
  {
   "cell_type": "code",
   "execution_count": null,
   "metadata": {},
   "outputs": [],
   "source": [
    "arr_float64.nbytes"
   ]
  },
  {
   "cell_type": "code",
   "execution_count": null,
   "metadata": {},
   "outputs": [],
   "source": [
    "import sys"
   ]
  },
  {
   "cell_type": "code",
   "execution_count": null,
   "metadata": {},
   "outputs": [],
   "source": [
    "sys.getsizeof(arr_int16)"
   ]
  },
  {
   "cell_type": "code",
   "execution_count": null,
   "metadata": {},
   "outputs": [],
   "source": [
    "sys.getsizeof(arr_int32)"
   ]
  },
  {
   "cell_type": "code",
   "execution_count": null,
   "metadata": {},
   "outputs": [],
   "source": [
    "sys.getsizeof(arr_float16)"
   ]
  },
  {
   "cell_type": "code",
   "execution_count": null,
   "metadata": {},
   "outputs": [],
   "source": [
    "sys.getsizeof(arr_float64)"
   ]
  },
  {
   "cell_type": "markdown",
   "metadata": {},
   "source": [
    "### <code>memory_profiler</code> Package\n",
    "\n",
    "Measuring memory usage requires that the <code>conda install -c conda-forge memory_profiler</code> package be installed in an Anaconda command prompt run as an administrator with this command:\n",
    "\n",
    "<code>conda install -c conda-forge memory_profiler</code>\n",
    "\n",
    "Once installed, the <code>memory_profiler</code> package needs to be loaded into the Jupyter notebook with this command:\n",
    "\n",
    "<code>%load_ext memory_profiler</code>"
   ]
  },
  {
   "cell_type": "code",
   "execution_count": null,
   "metadata": {},
   "outputs": [],
   "source": [
    "%load_ext memory_profiler"
   ]
  },
  {
   "cell_type": "markdown",
   "metadata": {},
   "source": [
    "### <code>%%memit</code>\n",
    "\n",
    "This gives a quick, but not detailed indication of memory usage in Jupyter.  It reports the total memory required to execute code in a cell.\n",
    "\n",
    "It is best to delete variables used in a cell that is measured.  Otherwise, the incremental memory usage reported will reflect only the incremental increase in such variables already in use, which might be zero if you are replacing the variable with something that consumes less memory."
   ]
  },
  {
   "cell_type": "code",
   "execution_count": null,
   "metadata": {},
   "outputs": [],
   "source": [
    "try:\n",
    "    del x\n",
    "except:\n",
    "    pass"
   ]
  },
  {
   "cell_type": "code",
   "execution_count": null,
   "metadata": {},
   "outputs": [],
   "source": [
    "%%memit\n",
    "\n",
    "import random\n",
    "\n",
    "x = []\n",
    "for i in range(1_000_000):\n",
    "    x.append(random.random())"
   ]
  },
  {
   "cell_type": "code",
   "execution_count": null,
   "metadata": {},
   "outputs": [],
   "source": [
    "try:\n",
    "    del y\n",
    "except:\n",
    "    pass"
   ]
  },
  {
   "cell_type": "code",
   "execution_count": null,
   "metadata": {},
   "outputs": [],
   "source": [
    "%%memit\n",
    "\n",
    "y = [random.random() for i in range(1_000_000)]"
   ]
  },
  {
   "cell_type": "markdown",
   "metadata": {},
   "source": [
    "### <code>memory_profiler</code>\n",
    "\n",
    "This package gives memory usage line-by-line and, therefore, provides much advantage over <code>%%memit</code> in pinpointing areas of opportunity.\n",
    "\n",
    "<code>memory_profiler</code> must be installed with this command in an Anaconda command prompt run as an administrator:\n",
    "\n",
    "<code>conda install -c conda-forge memory_profiler</code>\n",
    "\n",
    "The <code>memory_profiler</code> can be run in Jupyter, although I strongly discourage that for myriad reasons including frequent results that clearly cannot be true and needing to create a <code>.py</code> code file outside of Jupyter to be analyzed.  \n",
    "\n",
    "So, if you need to create a code file outside of Jupyter, then it makes sense to run <code>memory_profiler</code> either on the command line or in Spyder, as detailed below."
   ]
  },
  {
   "cell_type": "markdown",
   "metadata": {},
   "source": [
    "### <code>memory_profiler</code>  on the Command Line \n",
    "\n",
    "<code>memory_profiler</code> can analyze only code that is contained in a function.  Here is how it is applied to a function <code>make_rnd()</code> within a file <code>rnd.py</code>, which is contained in the same folder as this Jupyter notebook.\n",
    "\n",
    "![rnd_py.jpg](images/rnd_py.jpg)\n",
    "\n",
    "Of note in the code are these:\n",
    "- The <code>profile</code> function is imported from <code>memory_profiler</code> with an alias of <code>mem_profile</code>.  (The alias is used to keep the <code>memory_profiler</code> <code>profile</code> function distinct from that same name for the <code>line_profiler</code> package.\n",
    "- The 'decorator' <code>@mem_profile</code> on the <code> make_rnd()</code> function.  It is beyond the scope of this course to describe function decorators, but it suffices to understand that the decorator specifies which function is to eb profiled.\n",
    "\n",
    "Here is the result:\n",
    "![rnd_py_cmd_prmpt.jpg](images/rnd_py_cmd_prmpt.jpg)\n",
    "\n",
    "Alternatively, one does not need to import <code>memory_profiler</code> within the code file if this command line command is used, although the default decorator <code>profile</code> must be used:\n",
    "![rnd1_py.jpg](images/rnd1_py.jpg)\n",
    "![rnd1_py_cmd_prmpt.jpg](images/rnd1_py_cmd_prmpt.jpg)"
   ]
  },
  {
   "cell_type": "markdown",
   "metadata": {},
   "source": [
    "### <code>memory_profiler</code> in Spyder"
   ]
  },
  {
   "cell_type": "markdown",
   "metadata": {},
   "source": [
    "The previously mentioned file <code>rnd.py</code> can be run directly in a Spyder environment provided that <code>memory_profiler</code> is installed in Anaconda.\n",
    "\n",
    "![rnd_spyder.jpg](images/rnd_spyder.jpg)"
   ]
  },
  {
   "cell_type": "code",
   "execution_count": null,
   "metadata": {},
   "outputs": [],
   "source": []
  },
  {
   "cell_type": "code",
   "execution_count": null,
   "metadata": {},
   "outputs": [],
   "source": []
  }
 ],
 "metadata": {
  "kernelspec": {
   "display_name": "Python 3 (ipykernel)",
   "language": "python",
   "name": "python3"
  },
  "language_info": {
   "codemirror_mode": {
    "name": "ipython",
    "version": 3
   },
   "file_extension": ".py",
   "mimetype": "text/x-python",
   "name": "python",
   "nbconvert_exporter": "python",
   "pygments_lexer": "ipython3",
   "version": "3.7.13"
  }
 },
 "nbformat": 4,
 "nbformat_minor": 4
}
